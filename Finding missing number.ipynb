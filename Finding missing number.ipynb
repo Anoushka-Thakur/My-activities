{
 "cells": [
  {
   "cell_type": "markdown",
   "id": "032a61e4",
   "metadata": {},
   "source": [
    "# FINDING MISSING NUMBER"
   ]
  },
  {
   "cell_type": "markdown",
   "id": "48faf773",
   "metadata": {},
   "source": [
    "Finding the missing number in an array means finding the numbers missing from the array according to the range of values inside the array. Given an array containing a range of numbers from 0 to n with a missing number, find the missing number in the input array."
   ]
  },
  {
   "cell_type": "code",
   "execution_count": 12,
   "id": "c9cbcc49",
   "metadata": {},
   "outputs": [
    {
     "name": "stdout",
     "output_type": "stream",
     "text": [
      "[3, 5, 7, 11, 12, 13, 14]\n"
     ]
    }
   ],
   "source": [
    "def finding_missing_number(n):\n",
    "    numbers = set(n)\n",
    "    length = len(n)\n",
    "    output = []\n",
    "    for i in range (1, length + 2):\n",
    "        if i not in numbers:\n",
    "            output.append(i)\n",
    "    return output\n",
    "\n",
    "list_of_numbers = [1, 2, 4, 6, 8, 9, 10, 15, 16, 17 ,18 , 20, 23, 26, 29,]\n",
    "print(finding_missing_number(list_of_numbers))"
   ]
  },
  {
   "cell_type": "code",
   "execution_count": 14,
   "id": "0e520467",
   "metadata": {},
   "outputs": [
    {
     "name": "stdout",
     "output_type": "stream",
     "text": [
      "hello, world!\n"
     ]
    }
   ],
   "source": [
    "print('hello, world!')"
   ]
  },
  {
   "cell_type": "code",
   "execution_count": null,
   "id": "ec0bd83f",
   "metadata": {},
   "outputs": [],
   "source": []
  },
  {
   "cell_type": "code",
   "execution_count": null,
   "id": "03527acc",
   "metadata": {},
   "outputs": [],
   "source": []
  },
  {
   "cell_type": "code",
   "execution_count": null,
   "id": "d3607878",
   "metadata": {},
   "outputs": [],
   "source": []
  },
  {
   "cell_type": "code",
   "execution_count": null,
   "id": "775edf79",
   "metadata": {},
   "outputs": [],
   "source": []
  },
  {
   "cell_type": "code",
   "execution_count": null,
   "id": "50f85316",
   "metadata": {},
   "outputs": [],
   "source": []
  },
  {
   "cell_type": "code",
   "execution_count": null,
   "id": "65d1e28b",
   "metadata": {},
   "outputs": [],
   "source": []
  },
  {
   "cell_type": "markdown",
   "id": "e0331930",
   "metadata": {},
   "source": []
  }
 ],
 "metadata": {
  "kernelspec": {
   "display_name": "Python 3",
   "language": "python",
   "name": "python3"
  },
  "language_info": {
   "codemirror_mode": {
    "name": "ipython",
    "version": 3
   },
   "file_extension": ".py",
   "mimetype": "text/x-python",
   "name": "python",
   "nbconvert_exporter": "python",
   "pygments_lexer": "ipython3",
   "version": "3.9.13"
  }
 },
 "nbformat": 4,
 "nbformat_minor": 5
}
