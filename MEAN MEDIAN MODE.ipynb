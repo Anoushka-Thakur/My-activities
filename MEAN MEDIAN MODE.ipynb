{
 "cells": [
  {
   "cell_type": "markdown",
   "id": "72327b9e",
   "metadata": {},
   "source": [
    "MEAN MEDIAN MODE"
   ]
  },
  {
   "cell_type": "markdown",
   "id": "2750ad14",
   "metadata": {},
   "source": [
    "MEAN\n",
    "The mean is the average value of all the values in a dataset. To calculate the mean value of a dataset, we first need to find the sum of all the values and then divide the sum of all the values by the total number of values.\n",
    "\n"
   ]
  },
  {
   "cell_type": "code",
   "execution_count": 10,
   "id": "9bb472f8",
   "metadata": {},
   "outputs": [
    {
     "name": "stdout",
     "output_type": "stream",
     "text": [
      "Mean of the list is: 31.9375\n"
     ]
    }
   ],
   "source": [
    "# MEAN\n",
    "list_n =[12, 25, 36, 28, 35, 48, 39, 40, 32, 25, 17, 24, 32, 48, 41, 29]\n",
    "mean = sum(list_n) / len(list_n)\n",
    "print(\"Mean of the list is:\", mean)\n"
   ]
  },
  {
   "cell_type": "markdown",
   "id": "49d11854",
   "metadata": {},
   "source": [
    "Median\n",
    "The Median is the middle value among all the values in sorted order. Here we need to calculate the mid-value of all the values in a dataset. But before calculating the Median, we need to arrange all the values in sorted order. There are two different ways of calculating the median value."
   ]
  },
  {
   "cell_type": "code",
   "execution_count": 5,
   "id": "60c76d1a",
   "metadata": {},
   "outputs": [
    {
     "name": "stdout",
     "output_type": "stream",
     "text": [
      "When the total  umber of values is even: Median :[(n/2th term + (n/2 + 1)th term)/2]\n",
      "When the total number of values is odd: Median :[(n+1)/2th term]\n"
     ]
    }
   ],
   "source": [
    "print(\"When the total  umber of values is even: Median :[(n/2th term + (n/2 + 1)th term)/2]\")\n",
    "print(\"When the total number of values is odd: Median :[(n+1)/2th term]\")"
   ]
  },
  {
   "cell_type": "code",
   "execution_count": null,
   "id": "24ab255e",
   "metadata": {},
   "outputs": [
    {
     "name": "stdout",
     "output_type": "stream",
     "text": [
      "Sorted list is: [12, 17, 24, 25, 25, 28, 29, 32, 32, 35, 36, 39, 40, 41, 48, 48]\n",
      "Length of the list is: 16\n",
      "Median of the list is: 32.0\n"
     ]
    }
   ],
   "source": [
    "#  WHEN MEDIAN IS EVEN\n",
    "list_n.sort()\n",
    "print(\"Sorted list is:\", list_n)\n",
    "print(\"Length of the list is:\", len(list_n))\n",
    "\n",
    "if len(list) % 2 == 0:\n",
    "    mid1 =list_n[len(list_n)//2]\n",
    "    mid2 = list_n[len(list_n)//2 - 1]\n",
    "    median = (mid1 + mid2) / 2\n",
    "else:\n",
    "    mid = list_n[len(list_n + 1) // 2]\n",
    "print(\"Median of the list is:\", median)"
   ]
  },
  {
   "cell_type": "code",
   "execution_count": 20,
   "id": "edabad57",
   "metadata": {},
   "outputs": [
    {
     "name": "stdout",
     "output_type": "stream",
     "text": [
      "Sorted list is: [12, 17, 24, 25, 25, 28, 32, 32, 35, 36, 39, 40, 41, 48, 48]\n",
      "Length of the list is: 15\n",
      "Median of the list is: 35\n"
     ]
    }
   ],
   "source": [
    "list_n1 = [12, 25, 36, 28, 35, 48, 39, 40, 32, 25, 17, 24, 32, 48, 41]\n",
    "list_n1.sort()\n",
    "# WHEN MEDIAN IS ODD \n",
    "print(\"Sorted list is:\", list_n1)\n",
    "print(\"Length of the list is:\", len(list_n1)) \n",
    "if len(list_n1) % 2 != 0:\n",
    "    median = list_n1[len(list_n) // 2]\n",
    "    print(\"Median of the list is:\", median)"
   ]
  },
  {
   "cell_type": "markdown",
   "id": "540fd449",
   "metadata": {},
   "source": [
    "MODE\n",
    "\n",
    "Mode is the most frequently occurring value among all the values.\n"
   ]
  },
  {
   "cell_type": "code",
   "execution_count": 1,
   "id": "9e083a1c",
   "metadata": {},
   "outputs": [
    {
     "name": "stdout",
     "output_type": "stream",
     "text": [
      "Sorted list is: [12, 17, 24, 25, 25, 28, 32, 32, 35, 36, 39, 40, 48, 48]\n",
      "Length of the list is: 14\n",
      "Mode of the list is: 48\n"
     ]
    }
   ],
   "source": [
    "list_n2 = [12, 25, 36, 28, 35, 48, 39, 40, 32, 25, 17, 24, 32, 48]\n",
    "list_n2.sort()\n",
    "frequeny = {}\n",
    "for i in list_n2:\n",
    "    if i in frequeny:\n",
    "        frequeny[i] += 1\n",
    "    else:\n",
    "        frequeny[i] = 1\n",
    "print(\"Sorted list is:\", list_n2)\n",
    "print(\"Length of the list is:\", len(list_n2))\n",
    "\n",
    "frequnet = max(frequeny.values())       \n",
    "for i , j in frequeny.items():\n",
    "    if j == frequnet:\n",
    "        mode = i\n",
    "print(\"Mode of the list is:\", mode) "
   ]
  },
  {
   "cell_type": "code",
   "execution_count": 5,
   "id": "0ccb518a",
   "metadata": {},
   "outputs": [
    {
     "name": "stdout",
     "output_type": "stream",
     "text": [
      "Sorted list is: [12, 17, 24, 25, 25, 28, 32, 32, 35, 36, 39, 40, 48, 48]\n",
      "Length of the list is: 14\n",
      "Mode of the list is: 25\n"
     ]
    }
   ],
   "source": [
    "list_n2 = [12, 25, 36, 28, 35, 48, 39, 40, 32, 25, 17, 24, 32, 48]\n",
    "list_n2.sort()\n",
    "frequeny = {}\n",
    "for i in list_n2:\n",
    "    if i in frequeny:\n",
    "        frequeny[i] += 1\n",
    "    else:\n",
    "        frequeny[i] = 1\n",
    "print(\"Sorted list is:\", list_n2)\n",
    "print(\"Length of the list is:\", len(list_n2))\n",
    "frequent = {}\n",
    "for i in list_n2:\n",
    "    if i in frequent:\n",
    "        frequent[i] += 1\n",
    "    else:\n",
    "        frequent[i] = 1\n",
    "frequent = max(frequent.items(), key=lambda x: x[1])[0]  # Get the mode directly\n",
    "print(\"Mode of the list is:\", frequent) "
   ]
  },
  {
   "cell_type": "code",
   "execution_count": null,
   "id": "803dacc2",
   "metadata": {},
   "outputs": [],
   "source": []
  },
  {
   "cell_type": "code",
   "execution_count": null,
   "id": "0a67b057",
   "metadata": {},
   "outputs": [],
   "source": []
  },
  {
   "cell_type": "code",
   "execution_count": null,
   "id": "2ab8c97e",
   "metadata": {},
   "outputs": [],
   "source": []
  },
  {
   "cell_type": "markdown",
   "id": "9574d713",
   "metadata": {},
   "source": []
  }
 ],
 "metadata": {
  "kernelspec": {
   "display_name": "Python 3",
   "language": "python",
   "name": "python3"
  },
  "language_info": {
   "codemirror_mode": {
    "name": "ipython",
    "version": 3
   },
   "file_extension": ".py",
   "mimetype": "text/x-python",
   "name": "python",
   "nbconvert_exporter": "python",
   "pygments_lexer": "ipython3",
   "version": "3.9.13"
  }
 },
 "nbformat": 4,
 "nbformat_minor": 5
}
