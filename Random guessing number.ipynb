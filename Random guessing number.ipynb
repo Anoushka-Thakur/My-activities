{
 "cells": [
  {
   "cell_type": "markdown",
   "id": "47d3691a",
   "metadata": {},
   "source": [
    "# RANDOM GUESSING NUMBER"
   ]
  },
  {
   "cell_type": "code",
   "execution_count": 13,
   "id": "5c067da2",
   "metadata": {},
   "outputs": [
    {
     "name": "stdout",
     "output_type": "stream",
     "text": [
      "Too high, try again.\n",
      "Too high, try again.\n",
      "Too high, try again.\n",
      "Too high, try again.\n",
      "Too high, try again.\n",
      "Too low, try again.\n",
      "Too high, try again.\n",
      "Too high, try again.\n",
      "Too high, try again.\n",
      "Too high, try again.\n",
      "Congratulations! You guessed the number: 33\n"
     ]
    }
   ],
   "source": [
    "# import libraries\n",
    "import random\n",
    "n= random.randrange(1, 100)\n",
    "guess= int(input(\"Enter a number between 1 and 100: \"))\n",
    "while guess != n:\n",
    "    if guess < n:\n",
    "        print(\"Too low, try again.\")\n",
    "        guess = int(input(\"Enter a number between 1 and 100: \"))\n",
    "    elif guess > n:\n",
    "        print(\"Too high, try again.\")\n",
    "        guess= int(input(\"Enter a number between 1 and 100: \"))\n",
    "    else:\n",
    "        break\n",
    "print(\"Congratulations! You guessed the number:\", n)\n",
    "\n",
    "            "
   ]
  },
  {
   "cell_type": "code",
   "execution_count": null,
   "id": "2d4dc619",
   "metadata": {},
   "outputs": [],
   "source": []
  },
  {
   "cell_type": "code",
   "execution_count": null,
   "id": "2eb60e78",
   "metadata": {},
   "outputs": [],
   "source": []
  },
  {
   "cell_type": "code",
   "execution_count": null,
   "id": "f1653181",
   "metadata": {},
   "outputs": [],
   "source": []
  },
  {
   "cell_type": "code",
   "execution_count": null,
   "id": "96e46420",
   "metadata": {},
   "outputs": [],
   "source": []
  },
  {
   "cell_type": "code",
   "execution_count": null,
   "id": "811ac8f5",
   "metadata": {},
   "outputs": [],
   "source": []
  },
  {
   "cell_type": "code",
   "execution_count": null,
   "id": "fc156244",
   "metadata": {},
   "outputs": [],
   "source": []
  },
  {
   "cell_type": "code",
   "execution_count": null,
   "id": "652f8d2d",
   "metadata": {},
   "outputs": [],
   "source": []
  },
  {
   "cell_type": "code",
   "execution_count": null,
   "id": "44aa24fd",
   "metadata": {},
   "outputs": [],
   "source": []
  }
 ],
 "metadata": {
  "kernelspec": {
   "display_name": "Python 3",
   "language": "python",
   "name": "python3"
  },
  "language_info": {
   "codemirror_mode": {
    "name": "ipython",
    "version": 3
   },
   "file_extension": ".py",
   "mimetype": "text/x-python",
   "name": "python",
   "nbconvert_exporter": "python",
   "pygments_lexer": "ipython3",
   "version": "3.9.13"
  }
 },
 "nbformat": 4,
 "nbformat_minor": 5
}
